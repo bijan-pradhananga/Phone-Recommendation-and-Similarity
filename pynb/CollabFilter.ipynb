{
 "cells": [
  {
   "cell_type": "code",
   "execution_count": null,
   "metadata": {
    "colab": {
     "base_uri": "https://localhost:8080/"
    },
    "executionInfo": {
     "elapsed": 4629,
     "status": "ok",
     "timestamp": 1742375987096,
     "user": {
      "displayName": "Bijan Pradhananga",
      "userId": "18316458315671500948"
     },
     "user_tz": -345
    },
    "id": "jQcRsXdcdyhl",
    "outputId": "ed59bd4a-4990-41b1-e0fb-5f6a309b45df"
   },
   "outputs": [
    {
     "name": "stdout",
     "output_type": "stream",
     "text": [
      "Requirement already satisfied: scikit-surprise in /usr/local/lib/python3.11/dist-packages (1.1.4)\n",
      "Requirement already satisfied: pandas in /usr/local/lib/python3.11/dist-packages (2.2.2)\n",
      "Requirement already satisfied: joblib>=1.2.0 in /usr/local/lib/python3.11/dist-packages (from scikit-surprise) (1.4.2)\n",
      "Requirement already satisfied: numpy>=1.19.5 in /usr/local/lib/python3.11/dist-packages (from scikit-surprise) (1.26.4)\n",
      "Requirement already satisfied: scipy>=1.6.0 in /usr/local/lib/python3.11/dist-packages (from scikit-surprise) (1.13.1)\n",
      "Requirement already satisfied: python-dateutil>=2.8.2 in /usr/local/lib/python3.11/dist-packages (from pandas) (2.8.2)\n",
      "Requirement already satisfied: pytz>=2020.1 in /usr/local/lib/python3.11/dist-packages (from pandas) (2025.1)\n",
      "Requirement already satisfied: tzdata>=2022.7 in /usr/local/lib/python3.11/dist-packages (from pandas) (2025.1)\n",
      "Requirement already satisfied: six>=1.5 in /usr/local/lib/python3.11/dist-packages (from python-dateutil>=2.8.2->pandas) (1.17.0)\n"
     ]
    }
   ],
   "source": [
    "%pip install scikit-surprise pandas"
   ]
  },
  {
   "cell_type": "code",
   "execution_count": 15,
   "metadata": {
    "colab": {
     "base_uri": "https://localhost:8080/"
    },
    "executionInfo": {
     "elapsed": 69,
     "status": "ok",
     "timestamp": 1742375987172,
     "user": {
      "displayName": "Bijan Pradhananga",
      "userId": "18316458315671500948"
     },
     "user_tz": -345
    },
    "id": "221uy1vLeEeu",
    "outputId": "cabb3cc6-e025-4d13-9863-665ae64dbe18"
   },
   "outputs": [
    {
     "name": "stdout",
     "output_type": "stream",
     "text": [
      "     user                   product  rating\n",
      "0  user_1  67c6fbf92680f82968f146a6     2.5\n",
      "1  user_1  67c6fb322680f82968f14362     2.5\n",
      "2  user_1  67c6fc002680f82968f146c3     2.5\n",
      "3  user_1  67c6fb9e2680f82968f14527     2.5\n",
      "4  user_1  67c6fb412680f82968f1439e     2.5\n"
     ]
    }
   ],
   "source": [
    "import pandas as pd\n",
    "import json\n",
    "\n",
    "# Load user activity data\n",
    "with open(\"/content/drive/MyDrive/Phone Recommendation and Similarity/datasets/userActivity_500.json\", \"r\") as f:\n",
    "    user_activity = json.load(f)\n",
    "\n",
    "# Convert JSON to a DataFrame\n",
    "interaction_data = []\n",
    "\n",
    "for user in user_activity:\n",
    "    user_id = user[\"user\"]\n",
    "\n",
    "    # Track purchases in a dictionary { product_id: True } for quick lookup\n",
    "    purchased_products = {p[\"product\"]: True for p in user[\"purchasedProducts\"]}\n",
    "\n",
    "    # Add viewed products with a default rating\n",
    "    for product in user[\"viewedProducts\"]:\n",
    "        interaction_data.append({\n",
    "            \"user\": user_id,\n",
    "            \"product\": product,\n",
    "            \"rating\": 2.5  # Neutral rating for views\n",
    "        })\n",
    "\n",
    "    # Add rated products (keep actual ratings, even if purchased)\n",
    "    rated_products = {}\n",
    "    for rating in user[\"ratings\"]:\n",
    "        rated_products[rating[\"product\"]] = rating[\"rating\"]  # Store user's actual rating\n",
    "\n",
    "    # Add purchases, but avoid duplicates if already rated\n",
    "    for product in purchased_products:\n",
    "        if product in rated_products:\n",
    "            # If user has already rated, use their rating instead of 4.5\n",
    "            interaction_data.append({\n",
    "                \"user\": user_id,\n",
    "                \"product\": product,\n",
    "                \"rating\": rated_products[product]\n",
    "            })\n",
    "        else:\n",
    "            # If no rating exists, assign a default rating for purchases\n",
    "            interaction_data.append({\n",
    "                \"user\": user_id,\n",
    "                \"product\": product,\n",
    "                \"rating\": 3.5\n",
    "            })\n",
    "\n",
    "df = pd.DataFrame(interaction_data)\n",
    "\n",
    "# Check dataset structure\n",
    "print(df.head())"
   ]
  },
  {
   "cell_type": "code",
   "execution_count": 16,
   "metadata": {
    "colab": {
     "base_uri": "https://localhost:8080/"
    },
    "executionInfo": {
     "elapsed": 225,
     "status": "ok",
     "timestamp": 1742375987405,
     "user": {
      "displayName": "Bijan Pradhananga",
      "userId": "18316458315671500948"
     },
     "user_tz": -345
    },
    "id": "s1-j9NPdejbA",
    "outputId": "82a9fa7b-7b08-4442-9306-22bbd136b6ae"
   },
   "outputs": [
    {
     "name": "stdout",
     "output_type": "stream",
     "text": [
      "RMSE: 0.6281\n",
      "Model RMSE: 0.6281119981249477\n"
     ]
    }
   ],
   "source": [
    "from surprise import Dataset, Reader, SVD\n",
    "from surprise.model_selection import train_test_split\n",
    "from surprise import accuracy\n",
    "\n",
    "# Define rating scale (1 to 5)\n",
    "reader = Reader(rating_scale=(1, 5))\n",
    "\n",
    "# Load data into Surprise dataset format\n",
    "data = Dataset.load_from_df(df[[\"user\", \"product\", \"rating\"]], reader)\n",
    "\n",
    "# Train-test split\n",
    "trainset, testset = train_test_split(data, test_size=0.2)\n",
    "\n",
    "# Train the SVD model\n",
    "model = SVD()\n",
    "model.fit(trainset)\n",
    "\n",
    "# Evaluate model performance (Root Mean Squared Error - RMSE)\n",
    "predictions = model.test(testset)\n",
    "print(\"Model RMSE:\", accuracy.rmse(predictions))"
   ]
  },
  {
   "cell_type": "code",
   "execution_count": 17,
   "metadata": {
    "colab": {
     "base_uri": "https://localhost:8080/"
    },
    "executionInfo": {
     "elapsed": 47,
     "status": "ok",
     "timestamp": 1742375987459,
     "user": {
      "displayName": "Bijan Pradhananga",
      "userId": "18316458315671500948"
     },
     "user_tz": -345
    },
    "id": "2gTFyBOyepBZ",
    "outputId": "8cb186d5-c40d-4977-f3e1-6a225f9ce3f9"
   },
   "outputs": [
    {
     "name": "stdout",
     "output_type": "stream",
     "text": [
      "Recommended Products: ['67c6fb282680f82968f14338', '67c6fb512680f82968f143e1', '67c6fbcf2680f82968f145f7', '67c6fba72680f82968f1454c', '67c6fb572680f82968f143fe']\n"
     ]
    }
   ],
   "source": [
    "def get_top_recommendations(user_id, model, df, top_n=5):\n",
    "    unique_products = df[\"product\"].unique()  # Get all unique product IDs\n",
    "    predictions = [model.predict(user_id, pid) for pid in unique_products]\n",
    "    predictions.sort(key=lambda x: x.est, reverse=True)  # Sort by estimated rating\n",
    "\n",
    "    recommended_products = [pred.iid for pred in predictions[:top_n]]\n",
    "    return recommended_products\n",
    "\n",
    "# Get recommendations for a user\n",
    "recommended = get_top_recommendations(\"user_1\", model, df, top_n=5)\n",
    "print(\"Recommended Products:\", recommended)"
   ]
  },
  {
   "cell_type": "code",
   "execution_count": null,
   "metadata": {
    "colab": {
     "base_uri": "https://localhost:8080/"
    },
    "executionInfo": {
     "elapsed": 20,
     "status": "ok",
     "timestamp": 1742375987478,
     "user": {
      "displayName": "Bijan Pradhananga",
      "userId": "18316458315671500948"
     },
     "user_tz": -345
    },
    "id": "7Hj6ljhUh5zV",
    "outputId": "8afb08a4-fc2e-446f-c586-9e8b6d8f94ae"
   },
   "outputs": [
    {
     "name": "stdout",
     "output_type": "stream",
     "text": [
      "Model loaded successfully!\n"
     ]
    }
   ],
   "source": [
    "import pickle\n",
    "# # Save the trained model to a file\n",
    "with open(\"/content/drive/MyDrive/Phone Recommendation and Similarity/ML_Model/trained_cf_model.pkl\", \"wb\") as f:\n",
    "    pickle.dump(model, f)\n",
    "\n",
    "\n",
    "# Load trained collaborative filtering model\n",
    "with open(\"/content/drive/MyDrive/Phone Recommendation and Similarity/ML_Model/trained_cf_model.pkl\", \"rb\") as f:\n",
    "    model = pickle.load(f)\n",
    "\n",
    "print(\"Model loaded successfully!\")"
   ]
  }
 ],
 "metadata": {
  "colab": {
   "authorship_tag": "ABX9TyPUEaaqmmF5gSMkWfcxquEX",
   "mount_file_id": "16m2RGPxRlUbusuhbJ3G0m4Y3LZiTER8X",
   "provenance": []
  },
  "kernelspec": {
   "display_name": "env",
   "language": "python",
   "name": "python3"
  },
  "language_info": {
   "name": "python",
   "version": "3.11.0"
  }
 },
 "nbformat": 4,
 "nbformat_minor": 0
}
